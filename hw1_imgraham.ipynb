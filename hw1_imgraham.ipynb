{
 "cells": [
  {
   "cell_type": "code",
   "execution_count": 1130,
   "metadata": {},
   "outputs": [],
   "source": [
    "import math\n",
    "import random\n",
    "import numpy as np\n",
    "import pandas as pd\n",
    "from tqdm import tqdm\n",
    "from scipy import sparse\n",
    "from collections import Counter\n",
    "import matplotlib.pyplot as plt\n",
    "from sklearn.metrics import f1_score"
   ]
  },
  {
   "cell_type": "markdown",
   "metadata": {},
   "source": [
    "# Naive Bayes"
   ]
  },
  {
   "cell_type": "code",
   "execution_count": 1131,
   "metadata": {},
   "outputs": [],
   "source": [
    "x_train = open(\"X_train.txt\",\"r\")\n",
    "\n",
    "def tokenize(string, my_list):\n",
    "    my_list.append(string.split())\n",
    "\n",
    "x_train_tweets = []\n",
    "tokenized_x_train_tweets = []\n",
    "for tweets in x_train:\n",
    "    x_train_tweets.append(tweets)\n",
    "    tokenize(tweets, tokenized_x_train_tweets)\n",
    "    \n",
    "x_train_tokens = []   \n",
    "for tweet in tokenized_x_train_tweets:\n",
    "    for word in tweet:\n",
    "        x_train_tokens.append(word)"
   ]
  },
  {
   "cell_type": "code",
   "execution_count": 1132,
   "metadata": {},
   "outputs": [],
   "source": [
    "y_train = open(\"y_train.txt\",\"r\")\n",
    "\n",
    "train_tweets_target = []\n",
    "for x in y_train:\n",
    "    train_tweets_target.append(int(x))"
   ]
  },
  {
   "cell_type": "code",
   "execution_count": 1133,
   "metadata": {},
   "outputs": [],
   "source": [
    "# Making lists of tokenized positive tweets and tokenized negative tweets\n",
    "positive_train_tweets = []\n",
    "negative_train_tweets = []\n",
    "\n",
    "i=0\n",
    "for x in train_tweets_target:\n",
    "    if x == 0:\n",
    "        positive_train_tweets.append(x_train_tweets[i])\n",
    "    else:\n",
    "        negative_train_tweets.append(x_train_tweets[i])\n",
    "    i+=1       "
   ]
  },
  {
   "cell_type": "code",
   "execution_count": 1134,
   "metadata": {},
   "outputs": [],
   "source": [
    "tokenized_positive_train_tweets = []\n",
    "tokenized_negative_train_tweets = []\n",
    "\n",
    "for x in positive_train_tweets:\n",
    "    tokenize(x, tokenized_positive_train_tweets)\n",
    "    \n",
    "for x in negative_train_tweets:\n",
    "    tokenize(x, tokenized_negative_train_tweets)\n",
    "    \n",
    "positive_train_tokens = []   \n",
    "for tweet in tokenized_positive_train_tweets:\n",
    "    for word in tweet:\n",
    "        positive_train_tokens.append(word)\n",
    "        \n",
    "negative_train_tokens = []   \n",
    "for tweet in tokenized_negative_train_tweets:\n",
    "    for word in tweet:\n",
    "        negative_train_tokens.append(word)"
   ]
  },
  {
   "cell_type": "code",
   "execution_count": 1135,
   "metadata": {},
   "outputs": [],
   "source": [
    "# Getting the counts of the words from our token lists\n",
    "count = Counter(x_train_tokens)\n",
    "count_positive = Counter(positive_train_tokens)\n",
    "count_negative = Counter(negative_train_tokens)"
   ]
  },
  {
   "cell_type": "code",
   "execution_count": 1136,
   "metadata": {},
   "outputs": [
    {
     "name": "stderr",
     "output_type": "stream",
     "text": [
      "100%|██████████| 129853/129853 [00:00<00:00, 539982.90it/s]\n"
     ]
    }
   ],
   "source": [
    "keys1 = list(set(x_train_tokens))\n",
    "len_train_tokens = len(x_train_tokens)\n",
    "len_targets = len(train_tweets_target)\n",
    "\n",
    "def train(smoothing_alpha=0):\n",
    "    global prob_x_dict1\n",
    "    global prob_pos_tweet\n",
    "    global prob_neg_tweet\n",
    "    global prob_x_given_positive_dict\n",
    "    global prob_x_given_negative_dict\n",
    "  \n",
    "    values1 = []\n",
    "    for word in keys1:\n",
    "        values1.append(count[word]/len_train_tokens)\n",
    "    prob_x_dict1 = dict(zip(keys1, values1))\n",
    "     \n",
    "    prob_pos_tweet = train_tweets_target.count(0)/len_targets\n",
    "    prob_neg_tweet = train_tweets_target.count(1)/len_targets\n",
    "    \n",
    "    positive_values = []\n",
    "    negative_values = []\n",
    "    \n",
    "    pos_count = len(count_positive)\n",
    "    neg_count = len(count_negative)\n",
    "    len_set = len(set(x_train_tokens))\n",
    "     \n",
    "    with tqdm(total=len_train_tokens) as pbar:\n",
    "        for word in x_train_tokens:\n",
    "            positive_values.append((count_positive[word]+smoothing_alpha)/(len(count_positive)+len_set*smoothing_alpha))\n",
    "            negative_values.append((count_negative[word]+smoothing_alpha)/(len(count_negative)+len_set*smoothing_alpha))\n",
    "            pbar.update(1)\n",
    "            \n",
    "        prob_x_given_positive_dict = dict(zip(x_train_tokens, positive_values))\n",
    "        prob_x_given_negative_dict = dict(zip(x_train_tokens, negative_values))\n",
    "                  \n",
    "train(smoothing_alpha=1)  "
   ]
  },
  {
   "cell_type": "code",
   "execution_count": 828,
   "metadata": {},
   "outputs": [],
   "source": [
    "classification = []\n",
    "def classify(tweet):\n",
    "    positive = []\n",
    "    negative = []\n",
    "    \n",
    "    for word in tweet:\n",
    "        if word in prob_x_given_positive_dict:\n",
    "            positive.append(prob_x_given_positive_dict[word])\n",
    "        if word in prob_x_given_negative_dict:\n",
    "            negative.append(prob_x_given_negative_dict[word])\n",
    "            \n",
    "    pos = []\n",
    "    neg = []\n",
    "    \n",
    "    for x in positive:\n",
    "        if x != 0:\n",
    "            pos.append(math.log(x))\n",
    "    for x in negative:\n",
    "        if x != 0:\n",
    "            neg.append(math.log(x))\n",
    "            \n",
    "    pos_post = math.log(prob_pos_tweet) + np.sum(pos)  \n",
    "    neg_post = math.log(prob_neg_tweet) + np.sum(neg) \n",
    "    \n",
    "    if pos_post > neg_post:\n",
    "        classification.append(0)\n",
    "    else:\n",
    "        classification.append(1)"
   ]
  },
  {
   "cell_type": "code",
   "execution_count": 829,
   "metadata": {},
   "outputs": [],
   "source": [
    "x_dev = open(\"X_dev.txt\",\"r\")\n",
    "\n",
    "x_dev_tweets = []\n",
    "tokenized_x_dev_tweets = []\n",
    "for tweets in x_dev:\n",
    "    x_dev_tweets.append(tweets)\n",
    "    tokenize(tweets, tokenized_x_dev_tweets)\n",
    "    \n",
    "y_dev = open(\"y_dev.txt\",\"r\")\n",
    "\n",
    "dev_tweets_target = []\n",
    "for x in y_dev:\n",
    "    dev_tweets_target.append(int(x))"
   ]
  },
  {
   "cell_type": "code",
   "execution_count": 830,
   "metadata": {},
   "outputs": [],
   "source": [
    "for tweet in tokenized_x_dev_tweets:\n",
    "    classify(tweet)"
   ]
  },
  {
   "cell_type": "code",
   "execution_count": 831,
   "metadata": {},
   "outputs": [
    {
     "name": "stdout",
     "output_type": "stream",
     "text": [
      "0.7164804469273742\n"
     ]
    }
   ],
   "source": [
    "x = f1_score(dev_tweets_target, classification, average='binary')\n",
    "print(x)"
   ]
  },
  {
   "cell_type": "code",
   "execution_count": 796,
   "metadata": {},
   "outputs": [],
   "source": [
    "# 0.22428748451053285 with regular tokenize and alpha = 0\n",
    "# 0.7164804469273742 with regular tokenize and alpha = 1\n",
    "# 0.682437275985663 with regular tokenize and alpha = 2\n",
    "# 0.6627651792245794 with regular tokenize and alpha = 3\n",
    "# 0.6494082840236686 with regular tokenize and alpha = 4"
   ]
  },
  {
   "cell_type": "code",
   "execution_count": 1015,
   "metadata": {},
   "outputs": [
    {
     "data": {
      "image/png": "[encoded data removed]",
      "text/plain": [
       "<Figure size 432x288 with 1 Axes>"
      ]
     },
     "metadata": {
      "needs_background": "light"
     },
     "output_type": "display_data"
    }
   ],
   "source": [
    "plt.plot([0,1,2,3,4], [0.22428748451053285, 0.7164804469273742, 0.682437275985663, 0.6627651792245794, 0.6494082840236686])\n",
    "plt.axis([0, 4, 0, 1])\n",
    "plt.xlabel('Smoothing Value')\n",
    "plt.ylabel('Performance')\n",
    "plt.xticks([0, 1, 2, 3, 4])\n",
    "plt.show()"
   ]
  },
  {
   "cell_type": "code",
   "execution_count": 1256,
   "metadata": {},
   "outputs": [],
   "source": [
    "x_train = open(\"X_train.txt\",\"r\")\n",
    "\n",
    "def better_tokenize(string, my_list):\n",
    "    my_list.append(string.lower().replace(\",\", \"\").replace(\".\", \"\").replace(\"'\", \"\").replace(\"-\", \" \").replace(\"_\", \" \").split())\n",
    "#     my_list.append(string.lower()\n",
    "x_train_tweets = []\n",
    "tokenized_x_train_tweets = []\n",
    "for tweets in x_train:\n",
    "    x_train_tweets.append(tweets)\n",
    "    better_tokenize(tweets, tokenized_x_train_tweets)"
   ]
  },
  {
   "cell_type": "code",
   "execution_count": 799,
   "metadata": {},
   "outputs": [
    {
     "name": "stderr",
     "output_type": "stream",
     "text": [
      "100%|██████████| 129853/129853 [00:00<00:00, 579897.85it/s]\n"
     ]
    }
   ],
   "source": [
    "train(smoothing_alpha=2) "
   ]
  },
  {
   "cell_type": "code",
   "execution_count": 800,
   "metadata": {},
   "outputs": [],
   "source": [
    "x_dev = open(\"X_dev.txt\",\"r\")\n",
    "\n",
    "x_dev_tweets = []\n",
    "tokenized_x_dev_tweets = []\n",
    "for tweets in x_dev:\n",
    "    x_dev_tweets.append(tweets)\n",
    "    better_tokenize(tweets, tokenized_x_dev_tweets)"
   ]
  },
  {
   "cell_type": "code",
   "execution_count": 801,
   "metadata": {},
   "outputs": [],
   "source": [
    "classification = []\n",
    "for tweet in tokenized_x_dev_tweets:\n",
    "    classify(tweet)"
   ]
  },
  {
   "cell_type": "code",
   "execution_count": 802,
   "metadata": {},
   "outputs": [
    {
     "name": "stdout",
     "output_type": "stream",
     "text": [
      "0.5121527777777778\n"
     ]
    }
   ],
   "source": [
    "x = f1_score(dev_tweets_target, classification, average='binary')\n",
    "print(x)"
   ]
  },
  {
   "cell_type": "code",
   "execution_count": 803,
   "metadata": {},
   "outputs": [],
   "source": [
    "# 0.2766749379652606 with better tokenize and alpha = 0 - just lower\n",
    "# 0.6581132075471698 with better tokenize and alpha = 1 - just lower\n",
    "# 0.6118935837245697 with better tokenize and alpha = 2 - just lower\n",
    "\n",
    "# 0.3185947910357359 with better tokenize and alpha = 0\n",
    "# 0.5486577181208053 with better tokenize and alpha = 1\n",
    "# 0.5121527777777778 with better tokenize and alpha = 2"
   ]
  },
  {
   "cell_type": "code",
   "execution_count": 804,
   "metadata": {},
   "outputs": [],
   "source": [
    "x_test = open(\"X_test.txt\",\"r\")\n",
    "\n",
    "x_test_tweets = []\n",
    "tokenized_x_test_tweets = []\n",
    "for tweets in x_test:\n",
    "    x_test_tweets.append(tweets)\n",
    "    better_tokenize(tweets, tokenized_x_test_tweets)"
   ]
  },
  {
   "cell_type": "code",
   "execution_count": 805,
   "metadata": {},
   "outputs": [],
   "source": [
    "classification = []\n",
    "for tweet in tokenized_x_test_tweets:\n",
    "    classify(tweet)"
   ]
  },
  {
   "cell_type": "code",
   "execution_count": 806,
   "metadata": {},
   "outputs": [],
   "source": [
    "df = pd.DataFrame(columns=['Id', 'Category'])\n",
    "\n",
    "ids = []\n",
    "i = 0\n",
    "for x in classification:\n",
    "    ids.append(i)\n",
    "    i+=1\n",
    "    \n",
    "df['Id'] = ids\n",
    "df['Category'] = classification"
   ]
  },
  {
   "cell_type": "code",
   "execution_count": 807,
   "metadata": {},
   "outputs": [],
   "source": [
    "df.to_csv(\"/Users/img/Desktop/630/Week2/hw1/outputs-NB.csv\", index=False)"
   ]
  },
  {
   "cell_type": "markdown",
   "metadata": {},
   "source": [
    "# Logistic Regression"
   ]
  },
  {
   "cell_type": "code",
   "execution_count": 1327,
   "metadata": {},
   "outputs": [],
   "source": [
    "unique_tokens = []\n",
    "for x in x_train_tokens:\n",
    "    if x not in unique_tokens:\n",
    "        unique_tokens.append(x)"
   ]
  },
  {
   "cell_type": "code",
   "execution_count": 1328,
   "metadata": {},
   "outputs": [],
   "source": [
    "df = pd.DataFrame(0, index=range(len(tokenized_x_train_tweets)), columns = unique_tokens)\n",
    "df\n",
    "\n",
    "i = 0\n",
    "for tweet in tokenized_x_train_tweets:\n",
    "    for word in tweet:\n",
    "        if word in unique_tokens:\n",
    "            df.at[i,word] = df.at[i,word] + 1\n",
    "    i+=1"
   ]
  },
  {
   "cell_type": "code",
   "execution_count": 1329,
   "metadata": {},
   "outputs": [
    {
     "name": "stderr",
     "output_type": "stream",
     "text": [
      "/opt/anaconda3/lib/python3.7/site-packages/ipykernel_launcher.py:1: FutureWarning: Method .as_matrix will be removed in a future version. Use .values instead.\n",
      "  \"\"\"Entry point for launching an IPython kernel.\n"
     ]
    }
   ],
   "source": [
    "sparse = df.as_matrix()\n",
    "\n",
    "intercept = np.ones((sparse.shape[0], 1))\n",
    "sparse = np.hstack((sparse, intercept))"
   ]
  },
  {
   "cell_type": "code",
   "execution_count": 1330,
   "metadata": {},
   "outputs": [],
   "source": [
    "def sigmoid(input_vector, beta_vector):\n",
    "    yhat = 1/(1 + math.e**-(np.dot(beta_vector, input_vector)))\n",
    "    return yhat"
   ]
  },
  {
   "cell_type": "code",
   "execution_count": 1331,
   "metadata": {},
   "outputs": [],
   "source": [
    "def log_liklihood(target, betas, matrix_x):\n",
    "    b_times_x = np.dot(betas, matrix_x)\n",
    "    ll = target*b_times_x - np.log(1 + math.e**(b_times_x))\n",
    "    return ll"
   ]
  },
  {
   "cell_type": "code",
   "execution_count": 1332,
   "metadata": {},
   "outputs": [],
   "source": [
    "def compute_gradient(phat, vector_x, target, learning_rate, betas):\n",
    "    deriv = (phat-target)*vector_x\n",
    "    outcome = betas - (learning_rate*deriv)\n",
    "    return outcome"
   ]
  },
  {
   "cell_type": "code",
   "execution_count": 1333,
   "metadata": {},
   "outputs": [],
   "source": [
    "predictions = []\n",
    "def predict(matrix_x, betas):\n",
    "    i=0\n",
    "    for x in matrix_x:\n",
    "        phat = sigmoid(x, betas)\n",
    "        predictions.append(phat)\n",
    "    for x in predictions:\n",
    "        if x>=0.5:\n",
    "            predictions[i] = 1\n",
    "        else:\n",
    "            predictions[i] = 0\n",
    "        i+=1"
   ]
  },
  {
   "cell_type": "code",
   "execution_count": 1334,
   "metadata": {
    "scrolled": false
   },
   "outputs": [],
   "source": [
    "def logistic_regression(matrix_x, targets_vector, learning_rate, num_step):\n",
    "    \n",
    "    global betas\n",
    "    betas = np.asarray([0]*len(matrix_x[0]))\n",
    "    learning_rate = learning_rate\n",
    "    num_step = num_step\n",
    "    rands = list(range(0, 10000))\n",
    "    \n",
    "    graph_x = []\n",
    "    graph_ll = []\n",
    "    \n",
    "    i=1\n",
    "    for index in range(num_step):\n",
    "        rand = random.choice(rands)\n",
    "        vector = matrix_x[rand]\n",
    "        ground_truth_class = targets_vector[rand]\n",
    "        \n",
    "        phat = sigmoid(vector, betas) \n",
    "#         print(phat)\n",
    "   \n",
    "        ll = log_liklihood(ground_truth_class, betas, vector)\n",
    "        \n",
    "        graph_x.append(i)\n",
    "        graph_ll.append(ll)\n",
    "        i+=1\n",
    "#         print(ll)\n",
    "        \n",
    "        outcome = compute_gradient(phat, vector, ground_truth_class, learning_rate, betas)\n",
    "        betas = outcome\n",
    "#         print(outcome)\n",
    "\n",
    "    global graph_x1\n",
    "    global graph_x2\n",
    "    global graph_x3\n",
    "    graph_x = np.asarray(graph_x)\n",
    "    graph_x1 = np.mean(graph_x.reshape(-1, 100), axis=1)\n",
    "    \n",
    "    global graph_ll1\n",
    "    global graph_ll2\n",
    "    global graph_ll3\n",
    "    graph_ll = np.asarray(graph_ll)\n",
    "    graph_ll1 = np.mean(graph_ll.reshape(-1, 100), axis=1)\n",
    "#     print(graph_ll1)\n",
    "\n",
    "#     plt.plot(graph_x1, graph_ll1)\n",
    "#     plt.show()\n",
    "\n",
    "# logistic_regression(sparse, train_tweets_target, 5e-5, 1000)       "
   ]
  },
  {
   "cell_type": "code",
   "execution_count": 1335,
   "metadata": {},
   "outputs": [],
   "source": [
    "logistic_regression(sparse, train_tweets_target, .05, 3000000) "
   ]
  },
  {
   "cell_type": "code",
   "execution_count": 1313,
   "metadata": {},
   "outputs": [
    {
     "data": {
      "image/png": "[encoded data removed]",
      "text/plain": [
       "<Figure size 432x288 with 1 Axes>"
      ]
     },
     "metadata": {
      "needs_background": "light"
     },
     "output_type": "display_data"
    }
   ],
   "source": [
    "plt.plot(graph_x1, graph_ll1, c = 'red')\n",
    "plt.plot(graph_x2, graph_ll2, c = 'blue')\n",
    "plt.plot(graph_x3, graph_ll3, c = 'green')\n",
    "\n",
    "plt.show()"
   ]
  },
  {
   "cell_type": "code",
   "execution_count": 1336,
   "metadata": {},
   "outputs": [],
   "source": [
    "x_dev = open(\"X_dev.txt\",\"r\")\n",
    "\n",
    "x_dev_tweets = []\n",
    "tokenized_x_dev_tweets = []\n",
    "for tweets in x_dev:\n",
    "    x_dev_tweets.append(tweets)\n",
    "    better_tokenize(tweets, tokenized_x_dev_tweets)"
   ]
  },
  {
   "cell_type": "code",
   "execution_count": 1337,
   "metadata": {},
   "outputs": [],
   "source": [
    "df = pd.DataFrame(0, index=range(len(tokenized_x_dev_tweets)), columns = unique_tokens)\n",
    "\n",
    "i = 0\n",
    "for tweet in tokenized_x_dev_tweets:\n",
    "    for word in tweet:\n",
    "        if word in unique_tokens:\n",
    "            df.at[i,word] = df.at[i,word] + 1\n",
    "    i+=1"
   ]
  },
  {
   "cell_type": "code",
   "execution_count": 1338,
   "metadata": {},
   "outputs": [
    {
     "name": "stderr",
     "output_type": "stream",
     "text": [
      "/opt/anaconda3/lib/python3.7/site-packages/ipykernel_launcher.py:1: FutureWarning: Method .as_matrix will be removed in a future version. Use .values instead.\n",
      "  \"\"\"Entry point for launching an IPython kernel.\n"
     ]
    }
   ],
   "source": [
    "sparse = df.as_matrix()\n",
    "\n",
    "intercept = np.ones((sparse.shape[0], 1))\n",
    "sparse = np.hstack((sparse, intercept))"
   ]
  },
  {
   "cell_type": "code",
   "execution_count": 1339,
   "metadata": {},
   "outputs": [],
   "source": [
    "predict(sparse, betas)"
   ]
  },
  {
   "cell_type": "code",
   "execution_count": 1340,
   "metadata": {},
   "outputs": [
    {
     "name": "stdout",
     "output_type": "stream",
     "text": [
      "0.7755581668625147\n"
     ]
    }
   ],
   "source": [
    "x = f1_score(dev_tweets_target, predictions, average='binary')\n",
    "print(x)"
   ]
  },
  {
   "cell_type": "code",
   "execution_count": 1341,
   "metadata": {},
   "outputs": [],
   "source": [
    "x_test = open(\"X_test.txt\",\"r\")\n",
    "\n",
    "x_test_tweets = []\n",
    "tokenized_x_test_tweets = []\n",
    "for tweets in x_test:\n",
    "    x_test_tweets.append(tweets)\n",
    "    better_tokenize(tweets, tokenized_x_test_tweets)"
   ]
  },
  {
   "cell_type": "code",
   "execution_count": 1342,
   "metadata": {},
   "outputs": [],
   "source": [
    "df = pd.DataFrame(0, index=range(len(tokenized_x_test_tweets)), columns = unique_tokens)"
   ]
  },
  {
   "cell_type": "code",
   "execution_count": 1343,
   "metadata": {},
   "outputs": [],
   "source": [
    "i = 0\n",
    "for tweet in tokenized_x_test_tweets:\n",
    "    for word in tweet:\n",
    "        if word in unique_tokens:\n",
    "            df.at[i,word] = df.at[i,word] + 1\n",
    "    i+=1"
   ]
  },
  {
   "cell_type": "code",
   "execution_count": 1344,
   "metadata": {},
   "outputs": [
    {
     "name": "stderr",
     "output_type": "stream",
     "text": [
      "/opt/anaconda3/lib/python3.7/site-packages/ipykernel_launcher.py:1: FutureWarning: Method .as_matrix will be removed in a future version. Use .values instead.\n",
      "  \"\"\"Entry point for launching an IPython kernel.\n"
     ]
    }
   ],
   "source": [
    "sparse = df.as_matrix()\n",
    "\n",
    "intercept = np.ones((sparse.shape[0], 1))\n",
    "sparse = np.hstack((sparse, intercept))"
   ]
  },
  {
   "cell_type": "code",
   "execution_count": 1345,
   "metadata": {
    "scrolled": true
   },
   "outputs": [],
   "source": [
    "predictions = []\n",
    "predict(sparse, betas)"
   ]
  },
  {
   "cell_type": "code",
   "execution_count": 1346,
   "metadata": {},
   "outputs": [],
   "source": [
    "df = pd.DataFrame(columns=['Id', 'Category'])\n",
    "\n",
    "ids = []\n",
    "i = 0\n",
    "for x in predictions:\n",
    "    ids.append(i)\n",
    "    i+=1\n",
    "    \n",
    "df['Id'] = ids\n",
    "df['Category'] = predictions"
   ]
  },
  {
   "cell_type": "code",
   "execution_count": 1348,
   "metadata": {},
   "outputs": [],
   "source": [
    "df.to_csv(\"/Users/img/Desktop/630/Week2/hw1/outputs-LR.csv\", index=False)"
   ]
  },
  {
   "cell_type": "code",
   "execution_count": null,
   "metadata": {},
   "outputs": [],
   "source": []
  },
  {
   "cell_type": "code",
   "execution_count": null,
   "metadata": {},
   "outputs": [],
   "source": []
  },
  {
   "cell_type": "code",
   "execution_count": null,
   "metadata": {},
   "outputs": [],
   "source": []
  },
  {
   "cell_type": "code",
   "execution_count": null,
   "metadata": {},
   "outputs": [],
   "source": []
  },
  {
   "cell_type": "code",
   "execution_count": null,
   "metadata": {},
   "outputs": [],
   "source": []
  },
  {
   "cell_type": "code",
   "execution_count": null,
   "metadata": {},
   "outputs": [],
   "source": []
  },
  {
   "cell_type": "code",
   "execution_count": null,
   "metadata": {},
   "outputs": [],
   "source": []
  },
  {
   "cell_type": "code",
   "execution_count": null,
   "metadata": {},
   "outputs": [],
   "source": []
  },
  {
   "cell_type": "code",
   "execution_count": null,
   "metadata": {},
   "outputs": [],
   "source": []
  },
  {
   "cell_type": "code",
   "execution_count": 36,
   "metadata": {
    "scrolled": false
   },
   "outputs": [
    {
     "name": "stdout",
     "output_type": "stream",
     "text": [
      "hidden layer: [-0.2  2. ]\n",
      "output layer: [ 3.88 16.18  4.04  1.82  7.9 ]\n"
     ]
    }
   ],
   "source": [
    "import numpy as np\n",
    "one_hot = [0,0,1,0,0]\n",
    "w1 = [[.6,2],[-.9,8],[-.2,2],[.9,1],[.5,4]]\n",
    "w3 = [[.6,2],[-.9,8],[-.2,2],[.9,1],[.5,4]]\n",
    "\n",
    "h = np.dot(one_hot,w1)\n",
    "print(\"hidden layer: \" + str(h))\n",
    "\n",
    "v = np.dot(w3,h)\n",
    "print(\"output layer: \"+ str(v))"
   ]
  },
  {
   "cell_type": "code",
   "execution_count": 46,
   "metadata": {},
   "outputs": [
    {
     "data": {
      "text/plain": [
       "array([ 3.88, 16.18,  4.04,  1.82,  7.9 ])"
      ]
     },
     "execution_count": 46,
     "metadata": {},
     "output_type": "execute_result"
    }
   ],
   "source": [
    "v"
   ]
  },
  {
   "cell_type": "code",
   "execution_count": 37,
   "metadata": {},
   "outputs": [],
   "source": [
    "def sigmoid(x):\n",
    "    return 1.0/(1+np.exp(-x))\n",
    "# np.dot(beta_vector, input_vector)\n",
    "\n",
    "v_prime_j = v[2]\n",
    "v_prime_j_t = np.transpose(v[2])\n",
    "\n",
    "sig = sigmoid(np.dot(v_prime_j_t,h))\n"
   ]
  },
  {
   "cell_type": "code",
   "execution_count": 38,
   "metadata": {},
   "outputs": [],
   "source": [
    "new_v_prime_j = v_prime_j - .05*(sig - 1)*h"
   ]
  },
  {
   "cell_type": "code",
   "execution_count": 39,
   "metadata": {},
   "outputs": [
    {
     "data": {
      "text/plain": [
       "array([4.03308317, 4.04003096])"
      ]
     },
     "execution_count": 39,
     "metadata": {},
     "output_type": "execute_result"
    }
   ],
   "source": [
    "new_v_prime_j # new_v_prime_j is our new value of w2[2]"
   ]
  },
  {
   "cell_type": "code",
   "execution_count": 40,
   "metadata": {},
   "outputs": [
    {
     "data": {
      "text/plain": [
       "[[0.6, 2], [-0.9, 8], [-0.2, 2], [0.9, 1], [0.5, 4]]"
      ]
     },
     "execution_count": 40,
     "metadata": {},
     "output_type": "execute_result"
    }
   ],
   "source": [
    "w3"
   ]
  },
  {
   "cell_type": "code",
   "execution_count": 42,
   "metadata": {},
   "outputs": [],
   "source": [
    "sig = sigmoid(np.dot(v_prime_j_t,h))\n",
    "\n",
    "v_i_new = h - .05*(sigmoid(sig-1))*v_prime_j"
   ]
  },
  {
   "cell_type": "code",
   "execution_count": 43,
   "metadata": {},
   "outputs": [
    {
     "data": {
      "text/plain": [
       "array([-0.26739907,  1.89901563])"
      ]
     },
     "execution_count": 43,
     "metadata": {},
     "output_type": "execute_result"
    }
   ],
   "source": [
    "v_i_new\n",
    "# vi new is now our updated version of w1[2]"
   ]
  },
  {
   "cell_type": "code",
   "execution_count": null,
   "metadata": {},
   "outputs": [],
   "source": []
  },
  {
   "cell_type": "code",
   "execution_count": null,
   "metadata": {},
   "outputs": [],
   "source": []
  },
  {
   "cell_type": "code",
   "execution_count": null,
   "metadata": {},
   "outputs": [],
   "source": []
  },
  {
   "cell_type": "code",
   "execution_count": null,
   "metadata": {},
   "outputs": [],
   "source": []
  },
  {
   "cell_type": "code",
   "execution_count": 145,
   "metadata": {},
   "outputs": [],
   "source": [
    "one_hot = [0,0,1,0,0]\n",
    "context = [[0,1,0,0,0],[0,0,0,1,0]]\n",
    "negatives = [[1,0,0,0,0],[0,0,0,0,1]]\n",
    "\n",
    "w1 = np.random.uniform(-.5, .5, size=(5, 2))\n",
    "w2 = np.random.uniform(-.5, .5, size=(5, 2))\n",
    "\n",
    "def sigmoid(x):\n",
    "    return 1.0/(1+np.exp(-x))"
   ]
  },
  {
   "cell_type": "code",
   "execution_count": 146,
   "metadata": {},
   "outputs": [
    {
     "name": "stdout",
     "output_type": "stream",
     "text": [
      "[-0.1253766  -0.43844393]\n"
     ]
    }
   ],
   "source": [
    "hidden = np.dot(one_hot, w1)\n",
    "print(hidden)"
   ]
  },
  {
   "cell_type": "code",
   "execution_count": 147,
   "metadata": {},
   "outputs": [
    {
     "data": {
      "text/plain": [
       "array([-0.10637021, -0.01977895, -0.08702583, -0.11773726, -0.10651646])"
      ]
     },
     "execution_count": 147,
     "metadata": {},
     "output_type": "execute_result"
    }
   ],
   "source": [
    "output = np.dot(hidden, np.transpose(w2))\n",
    "output"
   ]
  },
  {
   "cell_type": "code",
   "execution_count": 148,
   "metadata": {},
   "outputs": [],
   "source": [
    "# embedding of the input word in w1\n",
    "v_i = w1[2]"
   ]
  },
  {
   "cell_type": "code",
   "execution_count": 149,
   "metadata": {},
   "outputs": [],
   "source": [
    "# embedding of the input word in w2\n",
    "v_j = w2[2]"
   ]
  },
  {
   "cell_type": "code",
   "execution_count": 155,
   "metadata": {},
   "outputs": [],
   "source": [
    "# Here is where the perform descent function should start"
   ]
  },
  {
   "cell_type": "code",
   "execution_count": 150,
   "metadata": {},
   "outputs": [],
   "source": [
    "# Compute the nll here\n",
    "# v_c* in this equation is the embedding of the context word in the W' matrix"
   ]
  },
  {
   "cell_type": "code",
   "execution_count": 151,
   "metadata": {},
   "outputs": [
    {
     "data": {
      "text/plain": [
       "array([ 0.00647374, -0.00606112])"
      ]
     },
     "execution_count": 151,
     "metadata": {},
     "output_type": "execute_result"
    }
   ],
   "source": [
    "# Make update with the first context word and first negative sample \n",
    "lr = .05\n",
    "\n",
    "# Positive\n",
    "\n",
    "dot_product_for_sigmoid = np.dot(np.transpose(v_i), hidden)\n",
    "\n",
    "v_j = v_j - lr * (sigmoid(dot_product_for_sigmoid)-1)*hidden\n",
    "v_j\n",
    "\n",
    "summation = lr * (sigmoid(dot_product_for_sigmoid)-1) * v_j\n",
    "\n",
    "summation"
   ]
  },
  {
   "cell_type": "code",
   "execution_count": 152,
   "metadata": {},
   "outputs": [
    {
     "name": "stdout",
     "output_type": "stream",
     "text": [
      "[-0.28587289  0.28097603]\n"
     ]
    }
   ],
   "source": [
    "# Negative\n",
    "\n",
    "dot_product_for_sigmoid = np.dot(np.transpose(v_j), hidden)\n",
    "\n",
    "v_j = v_j - lr * (sigmoid(dot_product_for_sigmoid)-0)*hidden\n",
    "print(v_j)\n",
    "\n",
    "summation = summation + (lr * (sigmoid(dot_product_for_sigmoid)-0) * v_j)\n"
   ]
  },
  {
   "cell_type": "code",
   "execution_count": 153,
   "metadata": {},
   "outputs": [
    {
     "data": {
      "text/plain": [
       "array([-0.00037892,  0.00067416])"
      ]
     },
     "execution_count": 153,
     "metadata": {},
     "output_type": "execute_result"
    }
   ],
   "source": [
    "summation"
   ]
  },
  {
   "cell_type": "code",
   "execution_count": 154,
   "metadata": {},
   "outputs": [
    {
     "data": {
      "text/plain": [
       "array([-0.12535766, -0.43847764])"
      ]
     },
     "execution_count": 154,
     "metadata": {},
     "output_type": "execute_result"
    }
   ],
   "source": [
    "v_i = v_i - lr * summation\n",
    "v_i"
   ]
  },
  {
   "cell_type": "code",
   "execution_count": 142,
   "metadata": {},
   "outputs": [],
   "source": [
    "W1 = np.random.uniform(-.5, .5, size=(5, 2))"
   ]
  },
  {
   "cell_type": "code",
   "execution_count": 143,
   "metadata": {},
   "outputs": [
    {
     "data": {
      "text/plain": [
       "array([[ 0.01218864,  0.11239536],\n",
       "       [-0.33058633, -0.18394748],\n",
       "       [ 0.376982  ,  0.1986052 ],\n",
       "       [ 0.23166047, -0.34558651],\n",
       "       [ 0.00520592, -0.25458162]])"
      ]
     },
     "execution_count": 143,
     "metadata": {},
     "output_type": "execute_result"
    }
   ],
   "source": [
    "W1"
   ]
  },
  {
   "cell_type": "code",
   "execution_count": 144,
   "metadata": {},
   "outputs": [
    {
     "data": {
      "text/plain": [
       "array([0.376982 , 0.1986052])"
      ]
     },
     "execution_count": 144,
     "metadata": {},
     "output_type": "execute_result"
    }
   ],
   "source": [
    "W1[2]"
   ]
  },
  {
   "cell_type": "code",
   "execution_count": null,
   "metadata": {},
   "outputs": [],
   "source": []
  },
  {
   "cell_type": "code",
   "execution_count": null,
   "metadata": {},
   "outputs": [],
   "source": []
  },
  {
   "cell_type": "code",
   "execution_count": null,
   "metadata": {},
   "outputs": [],
   "source": []
  },
  {
   "cell_type": "code",
   "execution_count": null,
   "metadata": {},
   "outputs": [],
   "source": []
  },
  {
   "cell_type": "code",
   "execution_count": null,
   "metadata": {},
   "outputs": [],
   "source": []
  },
  {
   "cell_type": "code",
   "execution_count": null,
   "metadata": {},
   "outputs": [],
   "source": []
  },
  {
   "cell_type": "code",
   "execution_count": null,
   "metadata": {},
   "outputs": [],
   "source": [
    "# print(generateSamples(1083, 2))\n",
    "# gives us two random samples that aren't the same as 1083, THE INPUT OF THIS SHOULD BE A ONE HOT ENCODING\n",
    "\n",
    "# print(cumulative_dict[9586544])\n",
    "# gives us a one hot encoding "
   ]
  },
  {
   "cell_type": "code",
   "execution_count": null,
   "metadata": {},
   "outputs": [],
   "source": []
  },
  {
   "cell_type": "code",
   "execution_count": null,
   "metadata": {},
   "outputs": [],
   "source": [
    "# We will have one context word and two negative examples as inputs for this function \n",
    "# The ending resulf from this function will return to us negative log liklihood, but it will also update the weights\n",
    "# of our beta vectors -- we will call the generate samples function within this function \n",
    "\n",
    "# (num_samples, learning_rate, center_token, context_words, W1, W2, negative_indices, index_of_w_matricies)\n",
    "# cumulative_dict[9586544] will get us the one hot index of the sample words\n",
    "\n",
    "# one_hot_of_context_word = mapped_sequence[context_index]\n",
    "# one_hot_negative_sample1 = cumulative_dict[negative_indices[0]]\n",
    "# one_hot_negative_sample2 = cumulative_dict[negative_indices[1]]\n",
    "# # center_token is one hot of center token"
   ]
  },
  {
   "cell_type": "code",
   "execution_count": null,
   "metadata": {},
   "outputs": [],
   "source": [
    "w1 = np.random.uniform(-.5, .5, size=(5, 2))\n",
    "w2 = np.random.uniform(-.5, .5, size=(5, 2))"
   ]
  },
  {
   "cell_type": "code",
   "execution_count": 2,
   "metadata": {},
   "outputs": [],
   "source": [
    "def performDescent(target_W2_index, hidden, lr, W1, W2, context_W2_index, neg1_context_W2_index, neg2_context_W2_index):\n",
    "\n",
    "\t# (target_W2_index, hidden, lr, W1, W2, context word index from W2(context_W2_index), neg1_context_W2_index, neg2_context_W2_index, )\n",
    "\tnll_new = 0\n",
    "\n",
    "\tv_j = W2[context_W2_index]\n",
    "\tsummation = lr * (sigmoid(np.dot(np.transpose(v_j), hidden))-1) * v_j\n",
    "\tv_j = v_j - lr * (sigmoid(np.dot(np.transpose(v_j), hidden))-1) * hidden\n",
    "\tW2[context_W2_index] = v_j\n",
    "\n",
    "\tv_j = W2[context_W2_index]\n",
    "\tsummation = summation + (lr * sigmoid(np.dot(np.transpose(v_j), hidden))-0) * v_j\n",
    "\tv_j = v_j - lr * (sigmoid(np.dot(np.transpose(v_j), hidden))-0) * hidden\n",
    "\tW2[context_W2_index] = v_j\n",
    "\n",
    "\tv_j = W2[context_W2_index]\n",
    "\tsummation = summation + (lr * sigmoid(np.dot(np.transpose(v_j), hidden))-0) * v_j\n",
    "\tv_j = v_j - lr * (sigmoid(np.dot(np.transpose(v_j), hidden))-0) * hidden\n",
    "\tW2[context_W2_index] = v_j\n",
    "\n",
    "\tv_i = W1[context_W2_index]\n",
    "\tv_i = v_i - lr * summation\n",
    "\tW1[context_W2_index] = v_i\n",
    "\n",
    "\t\t#... (TASK) implement gradient descent. Find the current context token from context_words\n",
    "\t\t#... and the associated negative samples from negative_indices. Run gradient descent on both\n",
    "\t\t#... weight matrices W1 and W2.\n",
    "\t\t#... compute the total negative log-likelihood and store this in nll_new.\n",
    "\t\t#... You don't have to use all the input list above, feel free to change them\n",
    "\tE = -(math.log(sigmoid(np.dot(W2[context_W2_index], hidden))))\n",
    "\t# E_neg1 = (math.log(sigmoid(np.dot(W2[neg1_context_W2_index], hidden))))\n",
    "\t# E_neg2 = (math.log(sigmoid(np.dot(W2[neg2_context_W2_index], hidden))))\n",
    "\tE_neg = (math.log(sigmoid(np.dot(W2[neg1_context_W2_index], hidden)))) + (math.log(sigmoid(np.dot(W2[neg2_context_W2_index], hidden))))\n",
    "\tnll_new = E - E_neg"
   ]
  },
  {
   "cell_type": "code",
   "execution_count": null,
   "metadata": {},
   "outputs": [],
   "source": [
    "performDescent(2, hidden, .05, W1, W2, context_W2_index, neg1_context_W2_index, neg2_context_W2_index)"
   ]
  }
 ],
 "metadata": {
  "kernelspec": {
   "display_name": "Python 3",
   "language": "python",
   "name": "python3"
  },
  "language_info": {
   "codemirror_mode": {
    "name": "ipython",
    "version": 3
   },
   "file_extension": ".py",
   "mimetype": "text/x-python",
   "name": "python",
   "nbconvert_exporter": "python",
   "pygments_lexer": "ipython3",
   "version": "3.7.4"
  }
 },
 "nbformat": 4,
 "nbformat_minor": 2
}
